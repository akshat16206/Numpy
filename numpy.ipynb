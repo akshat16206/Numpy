{
 "cells": [
  {
   "cell_type": "code",
   "execution_count": 1,
   "id": "441079a8",
   "metadata": {},
   "outputs": [
    {
     "name": "stdout",
     "output_type": "stream",
     "text": [
      "Collecting numpy\n",
      "  Using cached numpy-2.3.1-cp313-cp313-macosx_14_0_arm64.whl.metadata (62 kB)\n",
      "Using cached numpy-2.3.1-cp313-cp313-macosx_14_0_arm64.whl (5.1 MB)\n",
      "Installing collected packages: numpy\n",
      "Successfully installed numpy-2.3.1\n"
     ]
    }
   ],
   "source": [
    "!pip3 install numpy\n"
   ]
  },
  {
   "cell_type": "code",
   "execution_count": 2,
   "id": "9293e783",
   "metadata": {},
   "outputs": [],
   "source": [
    "import numpy as np\n",
    "import sys"
   ]
  },
  {
   "cell_type": "markdown",
   "id": "551f10ac",
   "metadata": {},
   "source": [
    "intializing Array"
   ]
  },
  {
   "cell_type": "code",
   "execution_count": 16,
   "id": "bfcba1d4",
   "metadata": {},
   "outputs": [
    {
     "name": "stdout",
     "output_type": "stream",
     "text": [
      "[1 2 3]\n"
     ]
    }
   ],
   "source": [
    "a = np.array([1,2,3] , dtype = 'int16') #one dimensional array\n",
    "print(a)"
   ]
  },
  {
   "cell_type": "code",
   "execution_count": null,
   "id": "78474cf3",
   "metadata": {},
   "outputs": [
    {
     "name": "stdout",
     "output_type": "stream",
     "text": [
      "[[1. 2. 3.]\n",
      " [4. 5. 6.]]\n"
     ]
    }
   ],
   "source": [
    "b = np.array([[1.0,2.0,3.0],[4.0,5.0,6.0]]) #2-D array of floats\n",
    "print(b)"
   ]
  },
  {
   "cell_type": "markdown",
   "id": "72834c3f",
   "metadata": {},
   "source": [
    "how do we get the dimension of our numpy array?"
   ]
  },
  {
   "cell_type": "code",
   "execution_count": null,
   "id": "2f37ceda",
   "metadata": {},
   "outputs": [
    {
     "data": {
      "text/plain": [
       "1"
      ]
     },
     "execution_count": 7,
     "metadata": {},
     "output_type": "execute_result"
    }
   ],
   "source": [
    "a.ndim #get dimension"
   ]
  },
  {
   "cell_type": "code",
   "execution_count": null,
   "id": "22b861c6",
   "metadata": {},
   "outputs": [
    {
     "data": {
      "text/plain": [
       "2"
      ]
     },
     "execution_count": 8,
     "metadata": {},
     "output_type": "execute_result"
    }
   ],
   "source": [
    "b.ndim #get dimension"
   ]
  },
  {
   "cell_type": "markdown",
   "id": "bd91d678",
   "metadata": {},
   "source": [
    "how do we get shape of an array"
   ]
  },
  {
   "cell_type": "code",
   "execution_count": null,
   "id": "63e022b9",
   "metadata": {},
   "outputs": [
    {
     "data": {
      "text/plain": [
       "(3,)"
      ]
     },
     "execution_count": 9,
     "metadata": {},
     "output_type": "execute_result"
    }
   ],
   "source": [
    "a.shape #get shape"
   ]
  },
  {
   "cell_type": "code",
   "execution_count": null,
   "id": "6ba51bf7",
   "metadata": {},
   "outputs": [
    {
     "data": {
      "text/plain": [
       "(2, 3)"
      ]
     },
     "execution_count": 10,
     "metadata": {},
     "output_type": "execute_result"
    }
   ],
   "source": [
    "b.shape # get shape"
   ]
  },
  {
   "cell_type": "markdown",
   "id": "f43ebab3",
   "metadata": {},
   "source": [
    "if we want to know how much memory it take"
   ]
  },
  {
   "cell_type": "code",
   "execution_count": 17,
   "id": "eaf7bda4",
   "metadata": {},
   "outputs": [
    {
     "data": {
      "text/plain": [
       "dtype('int16')"
      ]
     },
     "execution_count": 17,
     "metadata": {},
     "output_type": "execute_result"
    }
   ],
   "source": [
    "#get dtype\n",
    "a.dtype"
   ]
  },
  {
   "cell_type": "code",
   "execution_count": 14,
   "id": "eee36b8b",
   "metadata": {},
   "outputs": [
    {
     "data": {
      "text/plain": [
       "dtype('float64')"
      ]
     },
     "execution_count": 14,
     "metadata": {},
     "output_type": "execute_result"
    }
   ],
   "source": [
    "#get dtype\n",
    "b.dtype"
   ]
  },
  {
   "cell_type": "markdown",
   "id": "0b160126",
   "metadata": {},
   "source": [
    "item size"
   ]
  },
  {
   "cell_type": "code",
   "execution_count": 26,
   "id": "4d327471",
   "metadata": {},
   "outputs": [
    {
     "name": "stdout",
     "output_type": "stream",
     "text": [
      "2\n",
      "8\n"
     ]
    }
   ],
   "source": [
    "print(a.itemsize)\n",
    "print(b.itemsize)"
   ]
  },
  {
   "cell_type": "code",
   "execution_count": 27,
   "id": "4e7cd6d0",
   "metadata": {},
   "outputs": [
    {
     "name": "stdout",
     "output_type": "stream",
     "text": [
      "3\n",
      "6\n"
     ]
    }
   ],
   "source": [
    "# get total no. of elementb aur size of array\n",
    "print(a.size)\n",
    "print(b.size)\n"
   ]
  },
  {
   "cell_type": "code",
   "execution_count": 28,
   "id": "4756f8b2",
   "metadata": {},
   "outputs": [
    {
     "name": "stdout",
     "output_type": "stream",
     "text": [
      "6\n",
      "6\n",
      "48\n",
      "24\n"
     ]
    }
   ],
   "source": [
    "#total size\n",
    "print(a.nbytes) #or\n",
    "print(a.itemsize*a.size)\n",
    "print(b.nbytes) #or\n",
    "print(b.itemsize*a.size)\n"
   ]
  },
  {
   "cell_type": "markdown",
   "id": "9dd916a4",
   "metadata": {},
   "source": [
    "Accessing/changing specific element , rows, column, etc"
   ]
  },
  {
   "cell_type": "code",
   "execution_count": 30,
   "id": "0f2b481c",
   "metadata": {},
   "outputs": [
    {
     "name": "stdout",
     "output_type": "stream",
     "text": [
      "[[ 1  2  3  4  5  6  7]\n",
      " [ 8  9 10 11 12 13 14]]\n"
     ]
    }
   ],
   "source": [
    "a = np.array([[1,2,3,4,5,6,7],[8,9,10,11,12,13,14]])\n",
    "print(a)"
   ]
  },
  {
   "cell_type": "code",
   "execution_count": null,
   "id": "1dd875a1",
   "metadata": {},
   "outputs": [
    {
     "name": "stdout",
     "output_type": "stream",
     "text": [
      "13\n"
     ]
    }
   ],
   "source": [
    "#get a specific element [row,column] # range of row: 0,1 column: 0-6\n",
    "print(a[1,4])"
   ]
  },
  {
   "cell_type": "code",
   "execution_count": null,
   "id": "9cf1372c",
   "metadata": {},
   "outputs": [
    {
     "name": "stdout",
     "output_type": "stream",
     "text": [
      "13\n"
     ]
    }
   ],
   "source": [
    "print(a[1,-2]) #from the back"
   ]
  },
  {
   "cell_type": "code",
   "execution_count": null,
   "id": "be4dc08c",
   "metadata": {},
   "outputs": [
    {
     "name": "stdout",
     "output_type": "stream",
     "text": [
      "[1 2 3 4 5 6 7]\n"
     ]
    }
   ],
   "source": [
    "#get a specific row\n",
    "print(a[0, :])"
   ]
  },
  {
   "cell_type": "code",
   "execution_count": 43,
   "id": "a1c01778",
   "metadata": {},
   "outputs": [
    {
     "name": "stdout",
     "output_type": "stream",
     "text": [
      "[ 4 11]\n"
     ]
    }
   ],
   "source": [
    "#get a specific column\n",
    "print(a[:,3])"
   ]
  },
  {
   "cell_type": "code",
   "execution_count": null,
   "id": "266d212b",
   "metadata": {},
   "outputs": [],
   "source": [
    "#getting little more fancy\n"
   ]
  },
  {
   "cell_type": "code",
   "execution_count": 36,
   "id": "f8667025",
   "metadata": {},
   "outputs": [
    {
     "name": "stdout",
     "output_type": "stream",
     "text": [
      "[[ 1  2  3  4  5  6  7]\n",
      " [ 8  9 10 11 15 13 14]]\n"
     ]
    }
   ],
   "source": [
    "#chanining the specific element\n",
    "a[1,4]=15\n",
    "print(a)"
   ]
  }
 ],
 "metadata": {
  "kernelspec": {
   "display_name": "env",
   "language": "python",
   "name": "python3"
  },
  "language_info": {
   "codemirror_mode": {
    "name": "ipython",
    "version": 3
   },
   "file_extension": ".py",
   "mimetype": "text/x-python",
   "name": "python",
   "nbconvert_exporter": "python",
   "pygments_lexer": "ipython3",
   "version": "3.13.4"
  }
 },
 "nbformat": 4,
 "nbformat_minor": 5
}
